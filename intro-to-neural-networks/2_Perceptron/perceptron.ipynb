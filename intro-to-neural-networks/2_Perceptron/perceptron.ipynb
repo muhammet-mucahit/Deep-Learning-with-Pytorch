{
  "nbformat": 4,
  "nbformat_minor": 0,
  "metadata": {
    "colab": {
      "name": "perceptron.ipynb",
      "provenance": [],
      "collapsed_sections": [],
      "include_colab_link": true
    },
    "kernelspec": {
      "name": "python3",
      "display_name": "Python 3"
    },
    "accelerator": "GPU"
  },
  "cells": [
    {
      "cell_type": "markdown",
      "metadata": {
        "id": "view-in-github",
        "colab_type": "text"
      },
      "source": [
        "<a href=\"https://colab.research.google.com/github/muhammet-mucahit/Deep-Learning-with-Pytorch/blob/master/perceptron.ipynb\" target=\"_parent\"></a>"
      ]
    },
    {
      "cell_type": "code",
      "metadata": {
        "id": "owLqGsDBlA0Y",
        "colab_type": "code",
        "colab": {}
      },
      "source": [
        "import numpy as np\n",
        "import matplotlib.pyplot as plt"
      ],
      "execution_count": 0,
      "outputs": []
    },
    {
      "cell_type": "code",
      "metadata": {
        "id": "Z24YSxdulMV3",
        "colab_type": "code",
        "colab": {}
      },
      "source": [
        "# Setting the random seed, feel free to change it and see different solutions.\n",
        "np.random.seed(16)"
      ],
      "execution_count": 0,
      "outputs": []
    },
    {
      "cell_type": "code",
      "metadata": {
        "id": "xCuhjE1hlMmQ",
        "colab_type": "code",
        "colab": {}
      },
      "source": [
        "def stepFunction(t):\n",
        "    if t >= 0:\n",
        "        return 1\n",
        "    return 0"
      ],
      "execution_count": 0,
      "outputs": []
    },
    {
      "cell_type": "code",
      "metadata": {
        "id": "rosHZ9wXpoAy",
        "colab_type": "code",
        "colab": {}
      },
      "source": [
        "def prediction(X, W, b):\n",
        "    # Matrix Multiplication\n",
        "    return stepFunction((np.matmul(X,W)+b)[0])"
      ],
      "execution_count": 0,
      "outputs": []
    },
    {
      "cell_type": "code",
      "metadata": {
        "id": "R8n1zSwTlMo3",
        "colab_type": "code",
        "colab": {}
      },
      "source": [
        "# The function receive as inputs the data X, the labels y,\n",
        "# the weights W (as an array), and the bias b,\n",
        "# update the weights and bias W, b, according to the perceptron algorithm,\n",
        "# and return W and b.\n",
        "def perceptronStep(X, y, W, b, learn_rate = 0.01):\n",
        "    for i in range(len(X)):\n",
        "        # print(X[i])\n",
        "        output = prediction(X[i], W, b)\n",
        "        rate = learn_rate * (y[i] - output)\n",
        "        W[0] += X[i][0] * rate\n",
        "        W[1] += X[i][1] * rate\n",
        "        b += 1 * rate\n",
        "    \n",
        "    return W, b"
      ],
      "execution_count": 0,
      "outputs": []
    },
    {
      "cell_type": "code",
      "metadata": {
        "id": "46ZT5l41lMrP",
        "colab_type": "code",
        "colab": {}
      },
      "source": [
        "# This function runs the perceptron algorithm repeatedly on the dataset,\n",
        "# and returns a few of the boundary lines obtained in the iterations,\n",
        "# for plotting purposes.\n",
        "# Feel free to play with the learning rate and the num_epochs,\n",
        "# and see your results plotted below.\n",
        "def trainPerceptronAlgorithm(X, y, learn_rate = 0.01, num_epochs = 25):\n",
        "    x_min, x_max = min(X.T[0]), max(X.T[0])\n",
        "    y_min, y_max = min(X.T[1]), max(X.T[1])\n",
        "    W = np.array(np.random.rand(2,1))\n",
        "    b = np.random.rand(1)[0] + x_max\n",
        "    # These are the solution lines that get plotted below.\n",
        "    boundary_lines = []\n",
        "    for i in range(num_epochs):\n",
        "        # In each epoch, we apply the perceptron step.\n",
        "        W, b = perceptronStep(X, y, W, b, learn_rate)\n",
        "        boundary_lines.append((-W[0]/W[1], -b/W[1]))\n",
        "    return boundary_lines"
      ],
      "execution_count": 0,
      "outputs": []
    },
    {
      "cell_type": "markdown",
      "metadata": {
        "id": "S2sAEtYoqY1S",
        "colab_type": "text"
      },
      "source": [
        "> **Before run the next cell make sure you downloaded the data.csv from github repo!**"
      ]
    },
    {
      "cell_type": "code",
      "metadata": {
        "id": "q5mOxm-woij-",
        "colab_type": "code",
        "colab": {}
      },
      "source": [
        "from google.colab import files\n",
        "uploaded = files.upload()"
      ],
      "execution_count": 0,
      "outputs": []
    },
    {
      "cell_type": "code",
      "metadata": {
        "id": "zZy2Ey_Tosos",
        "colab_type": "code",
        "colab": {}
      },
      "source": [
        "data = np.genfromtxt('data.csv', delimiter=',')"
      ],
      "execution_count": 0,
      "outputs": []
    },
    {
      "cell_type": "code",
      "metadata": {
        "id": "XMSIasxrossA",
        "colab_type": "code",
        "colab": {}
      },
      "source": [
        "X = data[:, :2]"
      ],
      "execution_count": 0,
      "outputs": []
    },
    {
      "cell_type": "code",
      "metadata": {
        "id": "bftv88UQoswX",
        "colab_type": "code",
        "colab": {}
      },
      "source": [
        "y = data[:, 2]"
      ],
      "execution_count": 0,
      "outputs": []
    },
    {
      "cell_type": "code",
      "metadata": {
        "id": "EA_N-NdUpgbM",
        "colab_type": "code",
        "colab": {}
      },
      "source": [
        "W = trainPerceptronAlgorithm(X, y)"
      ],
      "execution_count": 0,
      "outputs": []
    },
    {
      "cell_type": "code",
      "metadata": {
        "id": "aWrxNxStpgjT",
        "colab_type": "code",
        "colab": {}
      },
      "source": [
        "print(W)"
      ],
      "execution_count": 0,
      "outputs": []
    },
    {
      "cell_type": "code",
      "metadata": {
        "id": "e1HgP75ctSNL",
        "colab_type": "code",
        "colab": {}
      },
      "source": [
        "plt.plot(X[:50, 0], X[:50, 1], 'o')\n",
        "plt.plot(X[50:, 0], X[50:, 1], 'ro')\n",
        "\n",
        "plt.plot(W)\n",
        "plt.xlabel('X1')\n",
        "plt.ylabel('X2')\n",
        "\n",
        "plt.show()"
      ],
      "execution_count": 0,
      "outputs": []
    }
  ]
}
